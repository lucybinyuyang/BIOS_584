{
 "cells": [
  {
   "cell_type": "markdown",
   "id": "64e7225c-da03-4cdf-9919-a55bac1d4fbf",
   "metadata": {},
   "source": [
    "This is my first Jupyter notebook"
   ]
  },
  {
   "cell_type": "code",
   "execution_count": 1,
   "id": "33c18755-0a2f-4db4-b6a6-408140c3e9f7",
   "metadata": {},
   "outputs": [
    {
     "name": "stdout",
     "output_type": "stream",
     "text": [
      "My name is Binyu Yang.\n"
     ]
    }
   ],
   "source": [
    "print('My name is Binyu Yang.')"
   ]
  },
  {
   "cell_type": "code",
   "execution_count": null,
   "id": "d81bbf5e-4120-4207-9cdb-8a329b7ab486",
   "metadata": {},
   "outputs": [],
   "source": []
  }
 ],
 "metadata": {
  "kernelspec": {
   "display_name": "Python 3 (ipykernel)",
   "language": "python",
   "name": "python3"
  },
  "language_info": {
   "codemirror_mode": {
    "name": "ipython",
    "version": 3
   },
   "file_extension": ".py",
   "mimetype": "text/x-python",
   "name": "python",
   "nbconvert_exporter": "python",
   "pygments_lexer": "ipython3",
   "version": "3.13.7"
  }
 },
 "nbformat": 4,
 "nbformat_minor": 5
}
