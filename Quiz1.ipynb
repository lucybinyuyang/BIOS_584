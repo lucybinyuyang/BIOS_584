{
 "cells": [
  {
   "cell_type": "markdown",
   "id": "6bcce5be-6b9f-48bc-9032-0876489aa73e",
   "metadata": {},
   "source": [
    "Binyu Yang"
   ]
  },
  {
   "cell_type": "code",
   "execution_count": 27,
   "id": "2542907f-a645-45e9-ba68-0a7576f42f17",
   "metadata": {},
   "outputs": [
    {
     "name": "stdout",
     "output_type": "stream",
     "text": [
      "['cat1', 'cat1', 'cat1', 'cat2']\n"
     ]
    }
   ],
   "source": [
    "catsA = ['cat1', 'cat1', 'cat1']\n",
    "catsA.append('cat2')\n",
    "print(catsA)"
   ]
  },
  {
   "cell_type": "code",
   "execution_count": 28,
   "id": "c0c7afdd-9e67-4885-b659-16168bdae371",
   "metadata": {},
   "outputs": [
    {
     "name": "stdout",
     "output_type": "stream",
     "text": [
      "[]\n"
     ]
    }
   ],
   "source": [
    "catsB = ['cat1', 'cat1', 'cat1']\n",
    "catsB.clear()\n",
    "print(catsB)"
   ]
  },
  {
   "cell_type": "code",
   "execution_count": 29,
   "id": "84d73aa2-5805-4736-b978-6508efb3e398",
   "metadata": {},
   "outputs": [
    {
     "name": "stdout",
     "output_type": "stream",
     "text": [
      "['cat1', 'cat1', 'cat1']\n"
     ]
    }
   ],
   "source": [
    "catsC = ['cat1', 'cat1', 'cat1']\n",
    "catsC.copy()\n",
    "print(catsC)"
   ]
  },
  {
   "cell_type": "code",
   "execution_count": 30,
   "id": "6b9a5949-1196-40e7-b142-f7fc5248a32f",
   "metadata": {},
   "outputs": [
    {
     "data": {
      "text/plain": [
       "2"
      ]
     },
     "execution_count": 30,
     "metadata": {},
     "output_type": "execute_result"
    }
   ],
   "source": [
    "catsD = ['cat1', 'cat1', 'cat2']\n",
    "catsD.count('cat1')"
   ]
  },
  {
   "cell_type": "code",
   "execution_count": 31,
   "id": "ceb37d35-c6f5-4b76-8dc1-d7e593ffcc0c",
   "metadata": {},
   "outputs": [
    {
     "data": {
      "text/plain": [
       "2"
      ]
     },
     "execution_count": 31,
     "metadata": {},
     "output_type": "execute_result"
    }
   ],
   "source": [
    "catsE = ['cat1', 'cat1', 'cat2']\n",
    "catsE.index('cat2')"
   ]
  },
  {
   "cell_type": "code",
   "execution_count": 32,
   "id": "8374f5f3-6075-4e5b-8acf-dc8c8cc0f1bb",
   "metadata": {},
   "outputs": [
    {
     "name": "stdout",
     "output_type": "stream",
     "text": [
      "['cat1', 'cat2', 'cat1', 'cat2']\n"
     ]
    }
   ],
   "source": [
    "catsF = ['cat1', 'cat1', 'cat2']\n",
    "catsF.insert(1,'cat2')\n",
    "print(catsF)"
   ]
  },
  {
   "cell_type": "code",
   "execution_count": 33,
   "id": "002256e1-3168-4516-bbf0-8d09631dafb1",
   "metadata": {},
   "outputs": [
    {
     "data": {
      "text/plain": [
       "'cat2'"
      ]
     },
     "execution_count": 33,
     "metadata": {},
     "output_type": "execute_result"
    }
   ],
   "source": [
    "catsG = ['cat1', 'cat1', 'cat2']\n",
    "catsG.pop(2)"
   ]
  },
  {
   "cell_type": "code",
   "execution_count": 34,
   "id": "fad63710-855a-46cd-a28d-d1adbb2a71a3",
   "metadata": {},
   "outputs": [
    {
     "name": "stdout",
     "output_type": "stream",
     "text": [
      "['cat1', 'cat1']\n"
     ]
    }
   ],
   "source": [
    "catsH = ['cat1', 'cat1', 'cat2']\n",
    "catsH.remove('cat2')\n",
    "print(catsH)"
   ]
  },
  {
   "cell_type": "code",
   "execution_count": 35,
   "id": "af6850e3-7c25-4f0f-8409-c0ac968d2f92",
   "metadata": {},
   "outputs": [
    {
     "name": "stdout",
     "output_type": "stream",
     "text": [
      "['cat2', 'cat1', 'cat1']\n"
     ]
    }
   ],
   "source": [
    "catsI = ['cat1', 'cat1', 'cat2']\n",
    "catsI.reverse()\n",
    "print(catsI)"
   ]
  }
 ],
 "metadata": {
  "kernelspec": {
   "display_name": "Python 3 (ipykernel)",
   "language": "python",
   "name": "python3"
  },
  "language_info": {
   "codemirror_mode": {
    "name": "ipython",
    "version": 3
   },
   "file_extension": ".py",
   "mimetype": "text/x-python",
   "name": "python",
   "nbconvert_exporter": "python",
   "pygments_lexer": "ipython3",
   "version": "3.13.7"
  }
 },
 "nbformat": 4,
 "nbformat_minor": 5
}
